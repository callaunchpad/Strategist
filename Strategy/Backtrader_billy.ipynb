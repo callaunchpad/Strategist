{
 "cells": [
  {
   "cell_type": "code",
   "execution_count": 31,
   "metadata": {},
   "outputs": [],
   "source": [
    "import backtrader as bt\n",
    "import backtrader.analyzers as btanalyzers\n",
    "import matplotlib\n",
    "from datetime import datetime\n",
    " \n",
    "class MaCrossStrategy(bt.Strategy):\n",
    "    params = (\n",
    "        ('fast_length', 5),\n",
    "        ('slow_length', 25),\n",
    "        ('rsi_upper', 70),\n",
    "        ('rsi_lower', 30)\n",
    "    )\n",
    "     \n",
    "    def __init__(self):\n",
    "        self.crossovers = []\n",
    "        self.rsi = []\n",
    "         \n",
    "        for d in self.datas:\n",
    "            ma_fast = bt.ind.SMA(d, period = self.params.fast_length)\n",
    "            ma_slow = bt.ind.SMA(d, period = self.params.slow_length)\n",
    "            self.crossovers.append(bt.ind.CrossOver(ma_fast, ma_slow))\n",
    "            \n",
    "            self.rsi.append(bt.ind.RSI_Cutler())\n",
    " \n",
    "    def next(self):\n",
    "        for i, d in enumerate(self.datas):\n",
    "            if self.crossovers[i] > 0: \n",
    "                self.buy(data=d, size=10)\n",
    "\n",
    "            if self.rsi[i] < self.params.rsi_lower and self.getposition(d).size < 1000:\n",
    "                self.buy(data=d, size=20)\n",
    "            elif self.rsi[i] > self.params.rsi_upper and self.getposition(d).size > 0:\n",
    "                self.sell(data=d, size=20)\n",
    "\n",
    "cerebro = bt.Cerebro()\n",
    " \n",
    "stocks = ['AAPL', 'MSFT', 'AMZN', 'TSLA']\n",
    "for s in stocks: \n",
    "    data = bt.feeds.YahooFinanceData(dataname = s, fromdate = datetime(2010, 1, 1), todate = datetime(2020, 1, 1))\n",
    "    cerebro.adddata(data, name = s)\n",
    " \n",
    " \n",
    "cerebro.addstrategy(MaCrossStrategy)\n",
    " \n",
    "cerebro.broker.setcash(100000.0)\n",
    "\n",
    "sizer_percent = 50\n",
    "cerebro.addsizer(bt.sizers.PercentSizer, percents = sizer_percent)\n",
    " \n",
    "cerebro.addanalyzer(btanalyzers.SharpeRatio, _name = \"sharpe\")\n",
    "cerebro.addanalyzer(btanalyzers.Returns,     _name = \"returns\")\n",
    "cerebro.addanalyzer(btanalyzers.Transactions, _name = \"trans\")\n",
    " \n",
    "back = cerebro.run()\n",
    " \n",
    "final_portfolio_value = cerebro.broker.getvalue()\n",
    "# positions = cerebro.broker.getposition(data)\n",
    "avg_yearly_return = back[0].analyzers.returns.get_analysis()['rnorm100']\n",
    "sharpe_ratio = back[0].analyzers.sharpe.get_analysis()['sharperatio']\n",
    "num_trans = len(back[0].analyzers.trans.get_analysis())"
   ]
  },
  {
   "cell_type": "code",
   "execution_count": 32,
   "metadata": {},
   "outputs": [
    {
     "name": "stdout",
     "output_type": "stream",
     "text": [
      "Final Portfolio Value: 234958.30000000022\n",
      "Average Yearly Returns: 8.93264783024676\n",
      "Sharpe Ratio: 0.8074879972599336\n",
      "Number of Transactions: 552\n",
      "Sizer Percent: 50\n"
     ]
    }
   ],
   "source": [
    "print(f'Final Portfolio Value: {final_portfolio_value}')\n",
    "print(f'Average Yearly Returns: {avg_yearly_return}')\n",
    "print(f'Sharpe Ratio: {sharpe_ratio}')\n",
    "print(f'Number of Transactions: {num_trans}')\n",
    "print(f'Sizer Percent: {sizer_percent}')\n",
    "# print(positions)"
   ]
  },
  {
   "cell_type": "code",
   "execution_count": null,
   "metadata": {},
   "outputs": [],
   "source": []
  }
 ],
 "metadata": {
  "kernelspec": {
   "display_name": "Python 3",
   "language": "python",
   "name": "python3"
  },
  "language_info": {
   "codemirror_mode": {
    "name": "ipython",
    "version": 3
   },
   "file_extension": ".py",
   "mimetype": "text/x-python",
   "name": "python",
   "nbconvert_exporter": "python",
   "pygments_lexer": "ipython3",
   "version": "3.8.3"
  }
 },
 "nbformat": 4,
 "nbformat_minor": 4
}
