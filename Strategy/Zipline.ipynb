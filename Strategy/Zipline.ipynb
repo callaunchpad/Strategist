{
 "cells": [
  {
   "cell_type": "code",
   "execution_count": 6,
   "metadata": {},
   "outputs": [
    {
     "ename": "ModuleNotFoundError",
     "evalue": "No module named 'zipline'",
     "output_type": "error",
     "traceback": [
      "\u001b[0;31m---------------------------------------------------------------------------\u001b[0m",
      "\u001b[0;31mModuleNotFoundError\u001b[0m                       Traceback (most recent call last)",
      "\u001b[0;32m<ipython-input-6-90a0ccefca33>\u001b[0m in \u001b[0;36m<module>\u001b[0;34m\u001b[0m\n\u001b[1;32m      5\u001b[0m \u001b[0;32mimport\u001b[0m \u001b[0mpandas_datareader\u001b[0m\u001b[0;34m.\u001b[0m\u001b[0mdata\u001b[0m \u001b[0;32mas\u001b[0m \u001b[0myahoo_reader\u001b[0m\u001b[0;34m\u001b[0m\u001b[0;34m\u001b[0m\u001b[0m\n\u001b[1;32m      6\u001b[0m \u001b[0;34m\u001b[0m\u001b[0m\n\u001b[0;32m----> 7\u001b[0;31m \u001b[0;32mfrom\u001b[0m \u001b[0mzipline\u001b[0m\u001b[0;34m.\u001b[0m\u001b[0mutils\u001b[0m\u001b[0;34m.\u001b[0m\u001b[0mcalendars\u001b[0m \u001b[0;32mimport\u001b[0m \u001b[0mget_calendar\u001b[0m\u001b[0;34m\u001b[0m\u001b[0;34m\u001b[0m\u001b[0m\n\u001b[0m\u001b[1;32m      8\u001b[0m \u001b[0;32mfrom\u001b[0m \u001b[0mzipline\u001b[0m\u001b[0;34m.\u001b[0m\u001b[0mapi\u001b[0m \u001b[0;32mimport\u001b[0m \u001b[0morder_target\u001b[0m\u001b[0;34m,\u001b[0m \u001b[0msymbol\u001b[0m\u001b[0;34m\u001b[0m\u001b[0;34m\u001b[0m\u001b[0m\n\u001b[1;32m      9\u001b[0m \u001b[0;32mfrom\u001b[0m \u001b[0mzipline\u001b[0m\u001b[0;34m.\u001b[0m\u001b[0mdata\u001b[0m \u001b[0;32mimport\u001b[0m \u001b[0mbundles\u001b[0m\u001b[0;34m\u001b[0m\u001b[0;34m\u001b[0m\u001b[0m\n",
      "\u001b[0;31mModuleNotFoundError\u001b[0m: No module named 'zipline'"
     ]
    }
   ],
   "source": [
    "import pytz\n",
    "import pandas as pd\n",
    "from datetime import datetime\n",
    "import matplotlib.pyplot as plt\n",
    "import pandas_datareader.data as yahoo_reader\n",
    "\n",
    "from zipline.utils.calendars import get_calendar\n",
    "from zipline.api import order_target, symbol\n",
    "from zipline.data import bundles\n",
    "from zipline import run_algorithm\n",
    "\n",
    "\n",
    "def get_benchmark(symbol=None, start=None, end=None):\n",
    "    bm = yahoo_reader.DataReader(symbol,\n",
    "                                 'yahoo',\n",
    "                                 pd.Timestamp(start),\n",
    "                                 pd.Timestamp(end))['Close']\n",
    "    bm.index = bm.index.tz_localize('UTC')\n",
    "    return bm.pct_change(periods=1).fillna(0)\n",
    "\n",
    "\n",
    "def initialize(context):\n",
    "    context.equity = symbol(\"AMZN\")\n",
    "\n",
    "\n",
    "def handle_data(context, data):\n",
    "    order_target(context.equity, 100)\n",
    "\n",
    "\n",
    "def before_trading_start(context, data):\n",
    "    pass\n",
    "\n",
    "\n",
    "def analyze(context, perf):\n",
    "    ax1 = plt.subplot(211)\n",
    "    perf.portfolio_value.plot(ax=ax1)\n",
    "    ax2 = plt.subplot(212, sharex=ax1)\n",
    "    perf.sym.plot(ax=ax2, color='r')\n",
    "    plt.gcf().set_size_inches(18, 8)\n",
    "    plt.legend(['Algo', 'Benchmark'])\n",
    "    plt.ylabel(\"Returns\", color='black', size=25)\n",
    "\n",
    "\n",
    "if __name__ == '__main__':\n",
    "    bundle_name = 'alpaca_api'\n",
    "    bundle_data = bundles.load(bundle_name)\n",
    "\n",
    "    # Set the trading calendar\n",
    "    trading_calendar = get_calendar('NYSE')\n",
    "\n",
    "    start = pd.Timestamp(datetime(2020, 1, 1, tzinfo=pytz.UTC))\n",
    "    end = pd.Timestamp(datetime(2020, 11, 1, tzinfo=pytz.UTC))\n",
    "\n",
    "    r = run_algorithm(start=start,\n",
    "                      end=end,\n",
    "                      initialize=initialize,\n",
    "                      capital_base=100000,\n",
    "                      handle_data=handle_data,\n",
    "                      benchmark_returns=get_benchmark(symbol=\"SPY\",\n",
    "                                                      start=start.date().isoformat(),\n",
    "                                                      end=end.date().isoformat()),\n",
    "                      bundle='alpaca_api',\n",
    "                      broker=None,\n",
    "                      state_filename=\"./demo.state\",\n",
    "                      trading_calendar=trading_calendar,\n",
    "                      before_trading_start=before_trading_start,\n",
    "                      #                   analyze=analyze,\n",
    "                      data_frequency='daily'\n",
    "                      )\n",
    "    fig, axes = plt.subplots(1, 1, figsize=(16, 5), sharex=True)\n",
    "    r.algorithm_period_return.plot(color='blue')\n",
    "    r.benchmark_period_return.plot(color='red')\n",
    "\n",
    "    plt.legend(['Algo', 'Benchmark'])\n",
    "    plt.ylabel(\"Returns\", color='black', size=20)\n",
    "    plt.show()"
   ]
  },
  {
   "cell_type": "code",
   "execution_count": null,
   "metadata": {},
   "outputs": [
    {
     "name": "stdout",
     "output_type": "stream",
     "text": [
      "Password:"
     ]
    }
   ],
   "source": [
    "!sudo pip3 install zipline"
   ]
  },
  {
   "cell_type": "code",
   "execution_count": null,
   "metadata": {},
   "outputs": [],
   "source": []
  }
 ],
 "metadata": {
  "kernelspec": {
   "display_name": "Python 3",
   "language": "python",
   "name": "python3"
  },
  "language_info": {
   "codemirror_mode": {
    "name": "ipython",
    "version": 3
   },
   "file_extension": ".py",
   "mimetype": "text/x-python",
   "name": "python",
   "nbconvert_exporter": "python",
   "pygments_lexer": "ipython3",
   "version": "3.8.5"
  }
 },
 "nbformat": 4,
 "nbformat_minor": 4
}
