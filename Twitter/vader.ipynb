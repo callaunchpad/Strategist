{
 "cells": [
  {
   "cell_type": "code",
   "execution_count": 6,
   "metadata": {},
   "outputs": [],
   "source": [
    "import numpy as np\n",
    "import pandas as pd\n",
    "import nltk\n",
    "import tweepy\n",
    "import regex\n",
    "# nltk.download('vader_lexicon')\n",
    "from nltk.sentiment.vader import SentimentIntensityAnalyzer\n",
    "\n",
    "sid = SentimentIntensityAnalyzer()"
   ]
  },
  {
   "cell_type": "code",
   "execution_count": 2,
   "metadata": {},
   "outputs": [
    {
     "data": {
      "text/plain": [
       "{'neg': 0.0, 'neu': 0.508, 'pos': 0.492, 'compound': 0.4404}"
      ]
     },
     "execution_count": 2,
     "metadata": {},
     "output_type": "execute_result"
    }
   ],
   "source": [
    "a = 'This was a good movie.'\n",
    "sid.polarity_scores(a)"
   ]
  },
  {
   "cell_type": "code",
   "execution_count": 26,
   "metadata": {},
   "outputs": [],
   "source": [
    "# Authenticate to Twitter\n",
    "consumer_key = \"WHZ42oEtUPTxR8Ga9V37yLlam\"\n",
    "consumer_secret = \"Dk8htMfjCnmGyGfN269MHr9Da4Cy2LQer890kA9mjlwTE0CSh8\"\n",
    "\n",
    "auth = tweepy.AppAuthHandler(consumer_key, consumer_secret)\n",
    "api = tweepy.API(auth)\n",
    "\n",
    "# api.search returns a list of COUNT searchtweet objects.\n",
    "# searchtweet object documentation & attributes: https://developer.twitter.com/en/docs/twitter-api/v1/data-dictionary/object-model/tweet\n",
    "\n",
    "filtered = set(['http', 'RT'])\n",
    "\n",
    "def searchTweet(ticker, n):\n",
    "    result = api.search(q = ticker, lang = \"en\", count = n, result_type = \"recent\")\n",
    "    result = [r.text for r in result]\n",
    "    no_punct = []\n",
    "    for r in result:\n",
    "        tweet = []\n",
    "        for word in r.split():\n",
    "            \n",
    "            c = False\n",
    "            for f in filtered:\n",
    "                if word.startswith(f):\n",
    "                    c = True\n",
    "            if c:\n",
    "                continue\n",
    "            \n",
    "            text = \"\".join(e for e in word if e.isalnum())\n",
    "            tweet.append(text)\n",
    "        tweet = \" \".join(tweet)\n",
    "        no_punct.append(tweet)\n",
    "    return no_punct"
   ]
  },
  {
   "cell_type": "code",
   "execution_count": 29,
   "metadata": {},
   "outputs": [
    {
     "name": "stdout",
     "output_type": "stream",
     "text": [
      "Sholon7 That does make sense but still Is there anything in our country that isnt rigged So much for a free cou\n",
      "{'neg': 0.0, 'neu': 0.717, 'pos': 0.283, 'compound': 0.8181}\n",
      "***\n",
      "MrBiIIions AMC gang put up a good fight Nobody ever said this was going to be easy or fast Nice close over 200 for GME\n",
      "{'neg': 0.083, 'neu': 0.641, 'pos': 0.276, 'compound': 0.7184}\n",
      "***\n",
      "KongPosting Reminder we are on the right side We do NOT make threats to harm anyone Be better than that No stress were winning\n",
      "{'neg': 0.242, 'neu': 0.512, 'pos': 0.246, 'compound': 0.0341}\n",
      "***\n",
      "SarahVIS GME hold lets see next week what happens\n",
      "{'neg': 0.0, 'neu': 1.0, 'pos': 0.0, 'compound': 0.0}\n",
      "***\n",
      "TheGoobr what exp date and strike were your gme puts\n",
      "{'neg': 0.143, 'neu': 0.857, 'pos': 0.0, 'compound': -0.128}\n",
      "***\n",
      "HeyItsPixel1 askjosh but did you see the crazy price action suppression with AMC though HF fighting hard to ke\n",
      "{'neg': 0.332, 'neu': 0.668, 'pos': 0.0, 'compound': -0.7876}\n",
      "***\n",
      "KongPosting Reminder we are on the right side We do NOT make threats to harm anyone Be better than that No stress were winning\n",
      "{'neg': 0.242, 'neu': 0.512, 'pos': 0.246, 'compound': 0.0341}\n",
      "***\n",
      "FR3DOPOP What was this a Power  Hour for ants  AMC GME\n",
      "{'neg': 0.0, 'neu': 1.0, 'pos': 0.0, 'compound': 0.0}\n",
      "***\n",
      "Reminder we are on the right side We do NOT make threats to harm anyone Be better than that No stress were winning AMC GME\n",
      "{'neg': 0.235, 'neu': 0.526, 'pos': 0.239, 'compound': 0.0341}\n",
      "***\n"
     ]
    }
   ],
   "source": [
    "for tweet in searchTweet('GME', 10):\n",
    "    print(tweet)\n",
    "    print(sid.polarity_scores(tweet))\n",
    "    print('***')"
   ]
  },
  {
   "cell_type": "code",
   "execution_count": null,
   "metadata": {},
   "outputs": [],
   "source": []
  }
 ],
 "metadata": {
  "kernelspec": {
   "display_name": "Python 3",
   "language": "python",
   "name": "python3"
  },
  "language_info": {
   "codemirror_mode": {
    "name": "ipython",
    "version": 3
   },
   "file_extension": ".py",
   "mimetype": "text/x-python",
   "name": "python",
   "nbconvert_exporter": "python",
   "pygments_lexer": "ipython3",
   "version": "3.8.3"
  }
 },
 "nbformat": 4,
 "nbformat_minor": 2
}
